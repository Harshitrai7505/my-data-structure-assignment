{
 "cells": [
  {
   "cell_type": "markdown",
   "metadata": {},
   "source": [
    "# Q1- Discuss string slicing and provide examples.\n",
    "\n",
    "Introduction- Slicing in Python refers to extracting speific portions (substring) of a string using indices. Slicing strings Python involves obtaining\n",
    "a substring from a given string by slicing it from start to end. Using inidex postions, slicing allows you to capture substrings or characters, creating more flexible manipulation and analysis of text data. Moreover, one can return an array of characters with the slice syntax. \n",
    "This blog will thorougly expalin string slicing in python, syntax, examples, and how indexing can be done ini Python. \n",
    "\n",
    "A slice syntax helps youto return a range of characters. You have to define the start and the end index. Separate them to define the start and the end index. Separate them by a colon, to return a part of the string. \n",
    "\n",
    "*Methods for slicing strings in Python- \n",
    "For slicing, you can use different methods among which two are very commmon. One is by using the inbuild slice() another is by using the [:] array slice.\n",
    "\n",
    "#.Using a slice() method- \n",
    "In this method, the slice() constructor creates a slice object. Thus, this object represents the set of indices. A range like start, stop, and step is there to specify it. Below is the syntax to explain string slicing in Python via this method. \n",
    "\n",
    "#Syntax:\n",
    "slice(stop)\n",
    "slice(start, stop, step)\n",
    "\n",
    "#.Using the array slicing[::] method-\n",
    "In slicing strings Python learning, you can also use indexing syntax as an alternative for the slice object. Moreover, this is an easy way of slicing a srtring via list slicing and array slicing.\n",
    "\n",
    "#Syntax:\n",
    "arr[start:stop] : Items begin with stop-1.\n",
    "arr[start:] : items start through the rest of the array \n",
    "arr[:stop] : items from the beginning through stop-1\n",
    "arr[:] : a copy of the entire array\n",
    "arr[start:stop:step] : beginning with not past stop, by step "
   ]
  },
  {
   "cell_type": "code",
   "execution_count": null,
   "metadata": {},
   "outputs": [],
   "source": [
    "#Example1- \n",
    "S = \"DICTIONARY\"\n",
    "print(S[2:7]) #CTION"
   ]
  },
  {
   "cell_type": "code",
   "execution_count": null,
   "metadata": {},
   "outputs": [],
   "source": [
    "#Example2- \n",
    "Slicing with Negative Indices \n",
    "When slicing a string, you can also specify negative indices.\n",
    "\n",
    "S = \"DICTIONARY\"\n",
    "print(S[-7:-2]) #ANOIT"
   ]
  },
  {
   "cell_type": "code",
   "execution_count": null,
   "metadata": {},
   "outputs": [],
   "source": [
    "#Example3- \n",
    "Slicing strings in python with Postive and negative Indices\n",
    "It is possible to define both postive and negative indices simultaneously.\n",
    "\n",
    "s = 'ABCDELGHK'\n",
    "print(S[2:-5]) #CD  "
   ]
  },
  {
   "cell_type": "markdown",
   "metadata": {},
   "source": [
    "#Q2- Explain the key featurs of lists in Python.\n",
    "\n",
    "* Easy to learn : Python is a  high-level programming language that's simple to learn, use, and read.\n",
    "\n",
    "* Open source : Python is free and open source.\n",
    "\n",
    "* Standard library : Python comes with a comprehensive standard library.\n",
    "\n",
    "* Portable : Python is highly portable.\n",
    "\n",
    "* Dyanmically typed : Python is a dynamically typed language.\n",
    "\n",
    "* Object-orinted : Pyhton is an object-orinted programming language.\n",
    "\n",
    "* Multi-paradigm : Python supports mmutiple programming paradigms.\n",
    "\n",
    "* Large community support : Python has a large community of supporters.\n",
    "\n",
    "* Scalable : Python is scalable. \n",
    "\n",
    "* Interpreted : python is an interpreted language.\n",
    "\n",
    "* Third party libaries : Python supports third-party libaries.\n",
    "\n",
    "* Cross-platform : Python is cross-platform.\n",
    "\n",
    "* Extensible : Python is extensible.\n",
    "\n",
    "* Easy to debug : Python is easy to debug.\n"
   ]
  },
  {
   "cell_type": "code",
   "execution_count": null,
   "metadata": {},
   "outputs": [],
   "source": []
  },
  {
   "cell_type": "code",
   "execution_count": null,
   "metadata": {},
   "outputs": [],
   "source": []
  },
  {
   "cell_type": "markdown",
   "metadata": {},
   "source": []
  },
  {
   "cell_type": "code",
   "execution_count": null,
   "metadata": {},
   "outputs": [],
   "source": []
  },
  {
   "cell_type": "markdown",
   "metadata": {},
   "source": []
  },
  {
   "cell_type": "markdown",
   "metadata": {},
   "source": []
  },
  {
   "cell_type": "markdown",
   "metadata": {},
   "source": []
  },
  {
   "cell_type": "markdown",
   "metadata": {},
   "source": [
    "\n"
   ]
  },
  {
   "cell_type": "markdown",
   "metadata": {},
   "source": []
  },
  {
   "cell_type": "code",
   "execution_count": null,
   "metadata": {},
   "outputs": [],
   "source": [
    "\n"
   ]
  }
 ],
 "metadata": {
  "kernelspec": {
   "display_name": "Python 3",
   "language": "python",
   "name": "python3"
  },
  "language_info": {
   "codemirror_mode": {
    "name": "ipython",
    "version": 3
   },
   "file_extension": ".py",
   "mimetype": "text/x-python",
   "name": "python",
   "nbconvert_exporter": "python",
   "pygments_lexer": "ipython3",
   "version": "3.12.5"
  }
 },
 "nbformat": 4,
 "nbformat_minor": 2
}
